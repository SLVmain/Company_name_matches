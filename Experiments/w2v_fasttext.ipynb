{
  "nbformat": 4,
  "nbformat_minor": 0,
  "metadata": {
    "colab": {
      "provenance": [],
      "collapsed_sections": []
    },
    "kernelspec": {
      "name": "python3",
      "display_name": "Python 3"
    },
    "language_info": {
      "name": "python"
    },
    "gpuClass": "standard",
    "widgets": {
      "application/vnd.jupyter.widget-state+json": {
        "6c28ff08172349d4887eb6f83e6fb690": {
          "model_module": "@jupyter-widgets/controls",
          "model_name": "HBoxModel",
          "model_module_version": "1.5.0",
          "state": {
            "_dom_classes": [],
            "_model_module": "@jupyter-widgets/controls",
            "_model_module_version": "1.5.0",
            "_model_name": "HBoxModel",
            "_view_count": null,
            "_view_module": "@jupyter-widgets/controls",
            "_view_module_version": "1.5.0",
            "_view_name": "HBoxView",
            "box_style": "",
            "children": [
              "IPY_MODEL_ebc484e84aee42aa91b7c5482711ccc8",
              "IPY_MODEL_1fc3efdb54854e14acd26faa2ba5463c",
              "IPY_MODEL_396efad1c0924741b32d8c29caecba70"
            ],
            "layout": "IPY_MODEL_98fcdefc2334432bbdf7b328ec9d8737"
          }
        },
        "ebc484e84aee42aa91b7c5482711ccc8": {
          "model_module": "@jupyter-widgets/controls",
          "model_name": "HTMLModel",
          "model_module_version": "1.5.0",
          "state": {
            "_dom_classes": [],
            "_model_module": "@jupyter-widgets/controls",
            "_model_module_version": "1.5.0",
            "_model_name": "HTMLModel",
            "_view_count": null,
            "_view_module": "@jupyter-widgets/controls",
            "_view_module_version": "1.5.0",
            "_view_name": "HTMLView",
            "description": "",
            "description_tooltip": null,
            "layout": "IPY_MODEL_5dd23198b5a24ff59b050ed4203469db",
            "placeholder": "​",
            "style": "IPY_MODEL_8bb1c0cbbe3d4c23bd5b786ba45c516a",
            "value": "100%"
          }
        },
        "1fc3efdb54854e14acd26faa2ba5463c": {
          "model_module": "@jupyter-widgets/controls",
          "model_name": "FloatProgressModel",
          "model_module_version": "1.5.0",
          "state": {
            "_dom_classes": [],
            "_model_module": "@jupyter-widgets/controls",
            "_model_module_version": "1.5.0",
            "_model_name": "FloatProgressModel",
            "_view_count": null,
            "_view_module": "@jupyter-widgets/controls",
            "_view_module_version": "1.5.0",
            "_view_name": "ProgressView",
            "bar_style": "success",
            "description": "",
            "description_tooltip": null,
            "layout": "IPY_MODEL_43cc285682554e7dbd5ab44a14165036",
            "max": 497819,
            "min": 0,
            "orientation": "horizontal",
            "style": "IPY_MODEL_e553f540eeb448918bc13742e97423dd",
            "value": 497819
          }
        },
        "396efad1c0924741b32d8c29caecba70": {
          "model_module": "@jupyter-widgets/controls",
          "model_name": "HTMLModel",
          "model_module_version": "1.5.0",
          "state": {
            "_dom_classes": [],
            "_model_module": "@jupyter-widgets/controls",
            "_model_module_version": "1.5.0",
            "_model_name": "HTMLModel",
            "_view_count": null,
            "_view_module": "@jupyter-widgets/controls",
            "_view_module_version": "1.5.0",
            "_view_name": "HTMLView",
            "description": "",
            "description_tooltip": null,
            "layout": "IPY_MODEL_5b777ae400f840a3b283b87ff5275f49",
            "placeholder": "​",
            "style": "IPY_MODEL_49ff4f47e12d41bd9fac338364a83743",
            "value": " 497819/497819 [01:26&lt;00:00, 5836.01it/s]"
          }
        },
        "98fcdefc2334432bbdf7b328ec9d8737": {
          "model_module": "@jupyter-widgets/base",
          "model_name": "LayoutModel",
          "model_module_version": "1.2.0",
          "state": {
            "_model_module": "@jupyter-widgets/base",
            "_model_module_version": "1.2.0",
            "_model_name": "LayoutModel",
            "_view_count": null,
            "_view_module": "@jupyter-widgets/base",
            "_view_module_version": "1.2.0",
            "_view_name": "LayoutView",
            "align_content": null,
            "align_items": null,
            "align_self": null,
            "border": null,
            "bottom": null,
            "display": null,
            "flex": null,
            "flex_flow": null,
            "grid_area": null,
            "grid_auto_columns": null,
            "grid_auto_flow": null,
            "grid_auto_rows": null,
            "grid_column": null,
            "grid_gap": null,
            "grid_row": null,
            "grid_template_areas": null,
            "grid_template_columns": null,
            "grid_template_rows": null,
            "height": null,
            "justify_content": null,
            "justify_items": null,
            "left": null,
            "margin": null,
            "max_height": null,
            "max_width": null,
            "min_height": null,
            "min_width": null,
            "object_fit": null,
            "object_position": null,
            "order": null,
            "overflow": null,
            "overflow_x": null,
            "overflow_y": null,
            "padding": null,
            "right": null,
            "top": null,
            "visibility": null,
            "width": null
          }
        },
        "5dd23198b5a24ff59b050ed4203469db": {
          "model_module": "@jupyter-widgets/base",
          "model_name": "LayoutModel",
          "model_module_version": "1.2.0",
          "state": {
            "_model_module": "@jupyter-widgets/base",
            "_model_module_version": "1.2.0",
            "_model_name": "LayoutModel",
            "_view_count": null,
            "_view_module": "@jupyter-widgets/base",
            "_view_module_version": "1.2.0",
            "_view_name": "LayoutView",
            "align_content": null,
            "align_items": null,
            "align_self": null,
            "border": null,
            "bottom": null,
            "display": null,
            "flex": null,
            "flex_flow": null,
            "grid_area": null,
            "grid_auto_columns": null,
            "grid_auto_flow": null,
            "grid_auto_rows": null,
            "grid_column": null,
            "grid_gap": null,
            "grid_row": null,
            "grid_template_areas": null,
            "grid_template_columns": null,
            "grid_template_rows": null,
            "height": null,
            "justify_content": null,
            "justify_items": null,
            "left": null,
            "margin": null,
            "max_height": null,
            "max_width": null,
            "min_height": null,
            "min_width": null,
            "object_fit": null,
            "object_position": null,
            "order": null,
            "overflow": null,
            "overflow_x": null,
            "overflow_y": null,
            "padding": null,
            "right": null,
            "top": null,
            "visibility": null,
            "width": null
          }
        },
        "8bb1c0cbbe3d4c23bd5b786ba45c516a": {
          "model_module": "@jupyter-widgets/controls",
          "model_name": "DescriptionStyleModel",
          "model_module_version": "1.5.0",
          "state": {
            "_model_module": "@jupyter-widgets/controls",
            "_model_module_version": "1.5.0",
            "_model_name": "DescriptionStyleModel",
            "_view_count": null,
            "_view_module": "@jupyter-widgets/base",
            "_view_module_version": "1.2.0",
            "_view_name": "StyleView",
            "description_width": ""
          }
        },
        "43cc285682554e7dbd5ab44a14165036": {
          "model_module": "@jupyter-widgets/base",
          "model_name": "LayoutModel",
          "model_module_version": "1.2.0",
          "state": {
            "_model_module": "@jupyter-widgets/base",
            "_model_module_version": "1.2.0",
            "_model_name": "LayoutModel",
            "_view_count": null,
            "_view_module": "@jupyter-widgets/base",
            "_view_module_version": "1.2.0",
            "_view_name": "LayoutView",
            "align_content": null,
            "align_items": null,
            "align_self": null,
            "border": null,
            "bottom": null,
            "display": null,
            "flex": null,
            "flex_flow": null,
            "grid_area": null,
            "grid_auto_columns": null,
            "grid_auto_flow": null,
            "grid_auto_rows": null,
            "grid_column": null,
            "grid_gap": null,
            "grid_row": null,
            "grid_template_areas": null,
            "grid_template_columns": null,
            "grid_template_rows": null,
            "height": null,
            "justify_content": null,
            "justify_items": null,
            "left": null,
            "margin": null,
            "max_height": null,
            "max_width": null,
            "min_height": null,
            "min_width": null,
            "object_fit": null,
            "object_position": null,
            "order": null,
            "overflow": null,
            "overflow_x": null,
            "overflow_y": null,
            "padding": null,
            "right": null,
            "top": null,
            "visibility": null,
            "width": null
          }
        },
        "e553f540eeb448918bc13742e97423dd": {
          "model_module": "@jupyter-widgets/controls",
          "model_name": "ProgressStyleModel",
          "model_module_version": "1.5.0",
          "state": {
            "_model_module": "@jupyter-widgets/controls",
            "_model_module_version": "1.5.0",
            "_model_name": "ProgressStyleModel",
            "_view_count": null,
            "_view_module": "@jupyter-widgets/base",
            "_view_module_version": "1.2.0",
            "_view_name": "StyleView",
            "bar_color": null,
            "description_width": ""
          }
        },
        "5b777ae400f840a3b283b87ff5275f49": {
          "model_module": "@jupyter-widgets/base",
          "model_name": "LayoutModel",
          "model_module_version": "1.2.0",
          "state": {
            "_model_module": "@jupyter-widgets/base",
            "_model_module_version": "1.2.0",
            "_model_name": "LayoutModel",
            "_view_count": null,
            "_view_module": "@jupyter-widgets/base",
            "_view_module_version": "1.2.0",
            "_view_name": "LayoutView",
            "align_content": null,
            "align_items": null,
            "align_self": null,
            "border": null,
            "bottom": null,
            "display": null,
            "flex": null,
            "flex_flow": null,
            "grid_area": null,
            "grid_auto_columns": null,
            "grid_auto_flow": null,
            "grid_auto_rows": null,
            "grid_column": null,
            "grid_gap": null,
            "grid_row": null,
            "grid_template_areas": null,
            "grid_template_columns": null,
            "grid_template_rows": null,
            "height": null,
            "justify_content": null,
            "justify_items": null,
            "left": null,
            "margin": null,
            "max_height": null,
            "max_width": null,
            "min_height": null,
            "min_width": null,
            "object_fit": null,
            "object_position": null,
            "order": null,
            "overflow": null,
            "overflow_x": null,
            "overflow_y": null,
            "padding": null,
            "right": null,
            "top": null,
            "visibility": null,
            "width": null
          }
        },
        "49ff4f47e12d41bd9fac338364a83743": {
          "model_module": "@jupyter-widgets/controls",
          "model_name": "DescriptionStyleModel",
          "model_module_version": "1.5.0",
          "state": {
            "_model_module": "@jupyter-widgets/controls",
            "_model_module_version": "1.5.0",
            "_model_name": "DescriptionStyleModel",
            "_view_count": null,
            "_view_module": "@jupyter-widgets/base",
            "_view_module_version": "1.2.0",
            "_view_name": "StyleView",
            "description_width": ""
          }
        },
        "9fb07752c9cc4eaeb3872131c53d3340": {
          "model_module": "@jupyter-widgets/controls",
          "model_name": "HBoxModel",
          "model_module_version": "1.5.0",
          "state": {
            "_dom_classes": [],
            "_model_module": "@jupyter-widgets/controls",
            "_model_module_version": "1.5.0",
            "_model_name": "HBoxModel",
            "_view_count": null,
            "_view_module": "@jupyter-widgets/controls",
            "_view_module_version": "1.5.0",
            "_view_name": "HBoxView",
            "box_style": "",
            "children": [
              "IPY_MODEL_e867dcd7b6be4834bd24e184cfd9328e",
              "IPY_MODEL_f06a3f2ffd044b929f1144d353d9923a",
              "IPY_MODEL_feabeacf23cd4698ba97d67a32a12dcb"
            ],
            "layout": "IPY_MODEL_e4475381eb574458a872b9748c844272"
          }
        },
        "e867dcd7b6be4834bd24e184cfd9328e": {
          "model_module": "@jupyter-widgets/controls",
          "model_name": "HTMLModel",
          "model_module_version": "1.5.0",
          "state": {
            "_dom_classes": [],
            "_model_module": "@jupyter-widgets/controls",
            "_model_module_version": "1.5.0",
            "_model_name": "HTMLModel",
            "_view_count": null,
            "_view_module": "@jupyter-widgets/controls",
            "_view_module_version": "1.5.0",
            "_view_name": "HTMLView",
            "description": "",
            "description_tooltip": null,
            "layout": "IPY_MODEL_e9bf005120f3415eabfded5e6a958c9a",
            "placeholder": "​",
            "style": "IPY_MODEL_fb8aec92721b4110b9dfa0f41c5f0445",
            "value": "100%"
          }
        },
        "f06a3f2ffd044b929f1144d353d9923a": {
          "model_module": "@jupyter-widgets/controls",
          "model_name": "FloatProgressModel",
          "model_module_version": "1.5.0",
          "state": {
            "_dom_classes": [],
            "_model_module": "@jupyter-widgets/controls",
            "_model_module_version": "1.5.0",
            "_model_name": "FloatProgressModel",
            "_view_count": null,
            "_view_module": "@jupyter-widgets/controls",
            "_view_module_version": "1.5.0",
            "_view_name": "ProgressView",
            "bar_style": "success",
            "description": "",
            "description_tooltip": null,
            "layout": "IPY_MODEL_3c1c2f3dc45b4730bb955245fdd4ed3f",
            "max": 497819,
            "min": 0,
            "orientation": "horizontal",
            "style": "IPY_MODEL_edbb0638c41946e88c82051b680f644e",
            "value": 497819
          }
        },
        "feabeacf23cd4698ba97d67a32a12dcb": {
          "model_module": "@jupyter-widgets/controls",
          "model_name": "HTMLModel",
          "model_module_version": "1.5.0",
          "state": {
            "_dom_classes": [],
            "_model_module": "@jupyter-widgets/controls",
            "_model_module_version": "1.5.0",
            "_model_name": "HTMLModel",
            "_view_count": null,
            "_view_module": "@jupyter-widgets/controls",
            "_view_module_version": "1.5.0",
            "_view_name": "HTMLView",
            "description": "",
            "description_tooltip": null,
            "layout": "IPY_MODEL_1bfcceb3cdea421ebb1c2b20a10790dd",
            "placeholder": "​",
            "style": "IPY_MODEL_818c5919013242fd98504272aa60767d",
            "value": " 497819/497819 [01:33&lt;00:00, 5816.61it/s]"
          }
        },
        "e4475381eb574458a872b9748c844272": {
          "model_module": "@jupyter-widgets/base",
          "model_name": "LayoutModel",
          "model_module_version": "1.2.0",
          "state": {
            "_model_module": "@jupyter-widgets/base",
            "_model_module_version": "1.2.0",
            "_model_name": "LayoutModel",
            "_view_count": null,
            "_view_module": "@jupyter-widgets/base",
            "_view_module_version": "1.2.0",
            "_view_name": "LayoutView",
            "align_content": null,
            "align_items": null,
            "align_self": null,
            "border": null,
            "bottom": null,
            "display": null,
            "flex": null,
            "flex_flow": null,
            "grid_area": null,
            "grid_auto_columns": null,
            "grid_auto_flow": null,
            "grid_auto_rows": null,
            "grid_column": null,
            "grid_gap": null,
            "grid_row": null,
            "grid_template_areas": null,
            "grid_template_columns": null,
            "grid_template_rows": null,
            "height": null,
            "justify_content": null,
            "justify_items": null,
            "left": null,
            "margin": null,
            "max_height": null,
            "max_width": null,
            "min_height": null,
            "min_width": null,
            "object_fit": null,
            "object_position": null,
            "order": null,
            "overflow": null,
            "overflow_x": null,
            "overflow_y": null,
            "padding": null,
            "right": null,
            "top": null,
            "visibility": null,
            "width": null
          }
        },
        "e9bf005120f3415eabfded5e6a958c9a": {
          "model_module": "@jupyter-widgets/base",
          "model_name": "LayoutModel",
          "model_module_version": "1.2.0",
          "state": {
            "_model_module": "@jupyter-widgets/base",
            "_model_module_version": "1.2.0",
            "_model_name": "LayoutModel",
            "_view_count": null,
            "_view_module": "@jupyter-widgets/base",
            "_view_module_version": "1.2.0",
            "_view_name": "LayoutView",
            "align_content": null,
            "align_items": null,
            "align_self": null,
            "border": null,
            "bottom": null,
            "display": null,
            "flex": null,
            "flex_flow": null,
            "grid_area": null,
            "grid_auto_columns": null,
            "grid_auto_flow": null,
            "grid_auto_rows": null,
            "grid_column": null,
            "grid_gap": null,
            "grid_row": null,
            "grid_template_areas": null,
            "grid_template_columns": null,
            "grid_template_rows": null,
            "height": null,
            "justify_content": null,
            "justify_items": null,
            "left": null,
            "margin": null,
            "max_height": null,
            "max_width": null,
            "min_height": null,
            "min_width": null,
            "object_fit": null,
            "object_position": null,
            "order": null,
            "overflow": null,
            "overflow_x": null,
            "overflow_y": null,
            "padding": null,
            "right": null,
            "top": null,
            "visibility": null,
            "width": null
          }
        },
        "fb8aec92721b4110b9dfa0f41c5f0445": {
          "model_module": "@jupyter-widgets/controls",
          "model_name": "DescriptionStyleModel",
          "model_module_version": "1.5.0",
          "state": {
            "_model_module": "@jupyter-widgets/controls",
            "_model_module_version": "1.5.0",
            "_model_name": "DescriptionStyleModel",
            "_view_count": null,
            "_view_module": "@jupyter-widgets/base",
            "_view_module_version": "1.2.0",
            "_view_name": "StyleView",
            "description_width": ""
          }
        },
        "3c1c2f3dc45b4730bb955245fdd4ed3f": {
          "model_module": "@jupyter-widgets/base",
          "model_name": "LayoutModel",
          "model_module_version": "1.2.0",
          "state": {
            "_model_module": "@jupyter-widgets/base",
            "_model_module_version": "1.2.0",
            "_model_name": "LayoutModel",
            "_view_count": null,
            "_view_module": "@jupyter-widgets/base",
            "_view_module_version": "1.2.0",
            "_view_name": "LayoutView",
            "align_content": null,
            "align_items": null,
            "align_self": null,
            "border": null,
            "bottom": null,
            "display": null,
            "flex": null,
            "flex_flow": null,
            "grid_area": null,
            "grid_auto_columns": null,
            "grid_auto_flow": null,
            "grid_auto_rows": null,
            "grid_column": null,
            "grid_gap": null,
            "grid_row": null,
            "grid_template_areas": null,
            "grid_template_columns": null,
            "grid_template_rows": null,
            "height": null,
            "justify_content": null,
            "justify_items": null,
            "left": null,
            "margin": null,
            "max_height": null,
            "max_width": null,
            "min_height": null,
            "min_width": null,
            "object_fit": null,
            "object_position": null,
            "order": null,
            "overflow": null,
            "overflow_x": null,
            "overflow_y": null,
            "padding": null,
            "right": null,
            "top": null,
            "visibility": null,
            "width": null
          }
        },
        "edbb0638c41946e88c82051b680f644e": {
          "model_module": "@jupyter-widgets/controls",
          "model_name": "ProgressStyleModel",
          "model_module_version": "1.5.0",
          "state": {
            "_model_module": "@jupyter-widgets/controls",
            "_model_module_version": "1.5.0",
            "_model_name": "ProgressStyleModel",
            "_view_count": null,
            "_view_module": "@jupyter-widgets/base",
            "_view_module_version": "1.2.0",
            "_view_name": "StyleView",
            "bar_color": null,
            "description_width": ""
          }
        },
        "1bfcceb3cdea421ebb1c2b20a10790dd": {
          "model_module": "@jupyter-widgets/base",
          "model_name": "LayoutModel",
          "model_module_version": "1.2.0",
          "state": {
            "_model_module": "@jupyter-widgets/base",
            "_model_module_version": "1.2.0",
            "_model_name": "LayoutModel",
            "_view_count": null,
            "_view_module": "@jupyter-widgets/base",
            "_view_module_version": "1.2.0",
            "_view_name": "LayoutView",
            "align_content": null,
            "align_items": null,
            "align_self": null,
            "border": null,
            "bottom": null,
            "display": null,
            "flex": null,
            "flex_flow": null,
            "grid_area": null,
            "grid_auto_columns": null,
            "grid_auto_flow": null,
            "grid_auto_rows": null,
            "grid_column": null,
            "grid_gap": null,
            "grid_row": null,
            "grid_template_areas": null,
            "grid_template_columns": null,
            "grid_template_rows": null,
            "height": null,
            "justify_content": null,
            "justify_items": null,
            "left": null,
            "margin": null,
            "max_height": null,
            "max_width": null,
            "min_height": null,
            "min_width": null,
            "object_fit": null,
            "object_position": null,
            "order": null,
            "overflow": null,
            "overflow_x": null,
            "overflow_y": null,
            "padding": null,
            "right": null,
            "top": null,
            "visibility": null,
            "width": null
          }
        },
        "818c5919013242fd98504272aa60767d": {
          "model_module": "@jupyter-widgets/controls",
          "model_name": "DescriptionStyleModel",
          "model_module_version": "1.5.0",
          "state": {
            "_model_module": "@jupyter-widgets/controls",
            "_model_module_version": "1.5.0",
            "_model_name": "DescriptionStyleModel",
            "_view_count": null,
            "_view_module": "@jupyter-widgets/base",
            "_view_module_version": "1.2.0",
            "_view_name": "StyleView",
            "description_width": ""
          }
        }
      }
    }
  },
  "cells": [
    {
      "cell_type": "markdown",
      "source": [
        "#Using Word2Vec, FastText embedding and nearest neighbors with Annoy"
      ],
      "metadata": {
        "id": "1FqaIwiOwnYo"
      }
    },
    {
      "cell_type": "code",
      "source": [
        "!pip install cleanco transliterate"
      ],
      "metadata": {
        "colab": {
          "base_uri": "https://localhost:8080/"
        },
        "id": "R6_kyiDNmOOT",
        "outputId": "d3b2f456-068d-4c03-ed96-f5f3348aceae"
      },
      "execution_count": 11,
      "outputs": [
        {
          "output_type": "stream",
          "name": "stdout",
          "text": [
            "Looking in indexes: https://pypi.org/simple, https://us-python.pkg.dev/colab-wheels/public/simple/\n",
            "Collecting cleanco\n",
            "  Downloading cleanco-2.2-py3-none-any.whl (11 kB)\n",
            "Collecting transliterate\n",
            "  Downloading transliterate-1.10.2-py2.py3-none-any.whl (45 kB)\n",
            "\u001b[K     |████████████████████████████████| 45 kB 1.9 MB/s \n",
            "\u001b[?25hRequirement already satisfied: six>=1.1.0 in /usr/local/lib/python3.7/dist-packages (from transliterate) (1.15.0)\n",
            "Installing collected packages: transliterate, cleanco\n",
            "Successfully installed cleanco-2.2 transliterate-1.10.2\n"
          ]
        }
      ]
    },
    {
      "cell_type": "code",
      "source": [
        "!pip install annoy"
      ],
      "metadata": {
        "colab": {
          "base_uri": "https://localhost:8080/"
        },
        "id": "uulZsdNzh40G",
        "outputId": "ddaf6a0c-5007-4ad9-9063-19e6923b74a4"
      },
      "execution_count": 34,
      "outputs": [
        {
          "output_type": "stream",
          "name": "stdout",
          "text": [
            "Looking in indexes: https://pypi.org/simple, https://us-python.pkg.dev/colab-wheels/public/simple/\n",
            "Requirement already satisfied: annoy in /usr/local/lib/python3.7/dist-packages (1.17.1)\n"
          ]
        }
      ]
    },
    {
      "cell_type": "code",
      "source": [
        "import os\n",
        "import string\n",
        "from pymorphy2 import MorphAnalyzer\n",
        "from stop_words import get_stop_words\n",
        "import annoy\n",
        "from gensim.models import Word2Vec, FastText\n",
        "import pickle\n",
        "import numpy as np\n",
        "from tqdm import tqdm_notebook\n",
        "import pandas as pd\n",
        "import random\n",
        "import time\n",
        "import re\n",
        "import unicodedata\n",
        "from cleanco import basename\n",
        "from transliterate.decorators import transliterate_function"
      ],
      "metadata": {
        "id": "e8eTlGcCiMta"
      },
      "execution_count": 19,
      "outputs": []
    },
    {
      "cell_type": "code",
      "source": [
        "#загрузка данных с yandex disk\n",
        "!wget -O train.csv https://getfile.dokpub.com/yandex/get/https://disk.yandex.ru/d/03C9AjRJqukWcg"
      ],
      "metadata": {
        "colab": {
          "base_uri": "https://localhost:8080/"
        },
        "id": "iHi3xt2VyL15",
        "outputId": "817305eb-6a1e-4126-b36a-d52bc3a69170"
      },
      "execution_count": 3,
      "outputs": [
        {
          "output_type": "stream",
          "name": "stdout",
          "text": [
            "--2022-10-26 18:39:20--  https://getfile.dokpub.com/yandex/get/https://disk.yandex.ru/d/03C9AjRJqukWcg\n",
            "Resolving getfile.dokpub.com (getfile.dokpub.com)... 142.132.255.217\n",
            "Connecting to getfile.dokpub.com (getfile.dokpub.com)|142.132.255.217|:443... connected.\n",
            "HTTP request sent, awaiting response... 302 Found\n",
            "Location: https://downloader.disk.yandex.ru/disk/87460a5b970639ba9e84d4f25b3d4754cb84a0860cb5a717bef0f42958ad73f9/6359b451/msMO0KQIAH3VfHbAiTRYc7IU3Nhh3xJ0wfmoVk6qNzxYgqaBMRY0efTvRnMIfEhMPEeBAfXl4uChRAP2dvlWOg%3D%3D?uid=0&filename=train_brands.csv&disposition=attachment&hash=Q%2BL0DOkc2P3%2BfmzFCyxRcXa2Pi%2B4abC8b81eIqanwFGKgEtQzyjIoJ0TbqC7RIGwq/J6bpmRyOJonT3VoXnDag%3D%3D%3A&limit=0&content_type=text%2Fplain&owner_uid=6709741&fsize=29759004&hid=d3075775f2ccb8067d5c2aa80ed316de&media_type=spreadsheet&tknv=v2 [following]\n",
            "--2022-10-26 18:39:21--  https://downloader.disk.yandex.ru/disk/87460a5b970639ba9e84d4f25b3d4754cb84a0860cb5a717bef0f42958ad73f9/6359b451/msMO0KQIAH3VfHbAiTRYc7IU3Nhh3xJ0wfmoVk6qNzxYgqaBMRY0efTvRnMIfEhMPEeBAfXl4uChRAP2dvlWOg%3D%3D?uid=0&filename=train_brands.csv&disposition=attachment&hash=Q%2BL0DOkc2P3%2BfmzFCyxRcXa2Pi%2B4abC8b81eIqanwFGKgEtQzyjIoJ0TbqC7RIGwq/J6bpmRyOJonT3VoXnDag%3D%3D%3A&limit=0&content_type=text%2Fplain&owner_uid=6709741&fsize=29759004&hid=d3075775f2ccb8067d5c2aa80ed316de&media_type=spreadsheet&tknv=v2\n",
            "Resolving downloader.disk.yandex.ru (downloader.disk.yandex.ru)... 77.88.21.127, 2a02:6b8::2:127\n",
            "Connecting to downloader.disk.yandex.ru (downloader.disk.yandex.ru)|77.88.21.127|:443... connected.\n",
            "HTTP request sent, awaiting response... 302 Found\n",
            "Location: https://s02vlx.storage.yandex.net/rdisk/87460a5b970639ba9e84d4f25b3d4754cb84a0860cb5a717bef0f42958ad73f9/6359b451/msMO0KQIAH3VfHbAiTRYc7IU3Nhh3xJ0wfmoVk6qNzxYgqaBMRY0efTvRnMIfEhMPEeBAfXl4uChRAP2dvlWOg==?uid=0&filename=train_brands.csv&disposition=attachment&hash=Q%2BL0DOkc2P3%2BfmzFCyxRcXa2Pi%2B4abC8b81eIqanwFGKgEtQzyjIoJ0TbqC7RIGwq/J6bpmRyOJonT3VoXnDag%3D%3D%3A&limit=0&content_type=text%2Fplain&owner_uid=6709741&fsize=29759004&hid=d3075775f2ccb8067d5c2aa80ed316de&media_type=spreadsheet&tknv=v2&rtoken=4N1t5sGwreHt&force_default=no&ycrid=na-18da2770ffe602dc57e33d2bb0564edc-downloader23f&ts=5ebf787a8f640&s=811b3339ed1e6162bc192d1e646eb0a6089d99998951ca7e7854295925f03ff8&pb=U2FsdGVkX1-EIprzu1MLeSXxPC2_gFdpK0h4o3qOLdote9sbseM_9uaETe29NCg8Xd7FNPCbWOknkEsG4UeVtpuVhgMj4R7QHw6eMxuQraQ [following]\n",
            "--2022-10-26 18:39:21--  https://s02vlx.storage.yandex.net/rdisk/87460a5b970639ba9e84d4f25b3d4754cb84a0860cb5a717bef0f42958ad73f9/6359b451/msMO0KQIAH3VfHbAiTRYc7IU3Nhh3xJ0wfmoVk6qNzxYgqaBMRY0efTvRnMIfEhMPEeBAfXl4uChRAP2dvlWOg==?uid=0&filename=train_brands.csv&disposition=attachment&hash=Q%2BL0DOkc2P3%2BfmzFCyxRcXa2Pi%2B4abC8b81eIqanwFGKgEtQzyjIoJ0TbqC7RIGwq/J6bpmRyOJonT3VoXnDag%3D%3D%3A&limit=0&content_type=text%2Fplain&owner_uid=6709741&fsize=29759004&hid=d3075775f2ccb8067d5c2aa80ed316de&media_type=spreadsheet&tknv=v2&rtoken=4N1t5sGwreHt&force_default=no&ycrid=na-18da2770ffe602dc57e33d2bb0564edc-downloader23f&ts=5ebf787a8f640&s=811b3339ed1e6162bc192d1e646eb0a6089d99998951ca7e7854295925f03ff8&pb=U2FsdGVkX1-EIprzu1MLeSXxPC2_gFdpK0h4o3qOLdote9sbseM_9uaETe29NCg8Xd7FNPCbWOknkEsG4UeVtpuVhgMj4R7QHw6eMxuQraQ\n",
            "Resolving s02vlx.storage.yandex.net (s02vlx.storage.yandex.net)... 5.45.236.130, 2a02:6b8:c34:11:0:41af:35ea:63f2\n",
            "Connecting to s02vlx.storage.yandex.net (s02vlx.storage.yandex.net)|5.45.236.130|:443... connected.\n",
            "HTTP request sent, awaiting response... 200 OK\n",
            "Length: 29759004 (28M) [text/plain]\n",
            "Saving to: ‘train.csv’\n",
            "\n",
            "train.csv           100%[===================>]  28.38M  10.2MB/s    in 2.8s    \n",
            "\n",
            "2022-10-26 18:39:26 (10.2 MB/s) - ‘train.csv’ saved [29759004/29759004]\n",
            "\n"
          ]
        }
      ]
    },
    {
      "cell_type": "code",
      "source": [
        "train_path = 'train.csv'"
      ],
      "metadata": {
        "id": "hiqRMsGhpf8l"
      },
      "execution_count": 4,
      "outputs": []
    },
    {
      "cell_type": "code",
      "source": [
        "train_df = pd.read_csv(train_path)\n",
        "train_df"
      ],
      "metadata": {
        "colab": {
          "base_uri": "https://localhost:8080/",
          "height": 424
        },
        "id": "SkW_bBcs1cWt",
        "outputId": "f053a715-9f7f-43d0-f9fb-dc6036fd50f4"
      },
      "execution_count": 5,
      "outputs": [
        {
          "output_type": "execute_result",
          "data": {
            "text/plain": [
              "        pair_id                                        name_1  \\\n",
              "0             1                           Iko Industries Ltd.   \n",
              "1             2                       Apcotex Industries Ltd.   \n",
              "2             3             Rishichem Distributors Pvt., Ltd.   \n",
              "3             4                       Powermax Rubber Factory   \n",
              "4             5                                     Tress A/S   \n",
              "...         ...                                           ...   \n",
              "497814   497815                              BIT-MAT PRODUCTS   \n",
              "497815   497816                         Bnd Trading Co., Ltd.   \n",
              "497816   497817  Xeikon Industrial Co., Ltd. Of Dongguan City   \n",
              "497817   497818            Shanghai Kechuan Trading Co., Ltd.   \n",
              "497818   497819                        Dih Wei Industries Co.   \n",
              "\n",
              "                                                   name_2  is_duplicate  \n",
              "0                    Enormous Industrial Trade Pvt., Ltd.             0  \n",
              "1                     Technocraft Industries (India) Ltd.             0  \n",
              "2                                                     Dsa             0  \n",
              "3                                                 Co. One             0  \n",
              "4                        Longyou Industries Park Zhejiang             0  \n",
              "...                                                   ...           ...  \n",
              "497814               The Goodyear Tire and Rubber Company             0  \n",
              "497815  Zhong Shan Yue Liang Economy& Trade Imp. & Exp...             0  \n",
              "497816        Yi Cheng Trading Co., Ltd. Of Dongguan City             0  \n",
              "497817                       Shanghai M&G Stationery Inc.             0  \n",
              "497818                    Burlington Industries Corporate             0  \n",
              "\n",
              "[497819 rows x 4 columns]"
            ],
            "text/html": [
              "\n",
              "  <div id=\"df-ece11423-6c99-42ec-8c53-b7aacbc61d49\">\n",
              "    <div class=\"colab-df-container\">\n",
              "      <div>\n",
              "<style scoped>\n",
              "    .dataframe tbody tr th:only-of-type {\n",
              "        vertical-align: middle;\n",
              "    }\n",
              "\n",
              "    .dataframe tbody tr th {\n",
              "        vertical-align: top;\n",
              "    }\n",
              "\n",
              "    .dataframe thead th {\n",
              "        text-align: right;\n",
              "    }\n",
              "</style>\n",
              "<table border=\"1\" class=\"dataframe\">\n",
              "  <thead>\n",
              "    <tr style=\"text-align: right;\">\n",
              "      <th></th>\n",
              "      <th>pair_id</th>\n",
              "      <th>name_1</th>\n",
              "      <th>name_2</th>\n",
              "      <th>is_duplicate</th>\n",
              "    </tr>\n",
              "  </thead>\n",
              "  <tbody>\n",
              "    <tr>\n",
              "      <th>0</th>\n",
              "      <td>1</td>\n",
              "      <td>Iko Industries Ltd.</td>\n",
              "      <td>Enormous Industrial Trade Pvt., Ltd.</td>\n",
              "      <td>0</td>\n",
              "    </tr>\n",
              "    <tr>\n",
              "      <th>1</th>\n",
              "      <td>2</td>\n",
              "      <td>Apcotex Industries Ltd.</td>\n",
              "      <td>Technocraft Industries (India) Ltd.</td>\n",
              "      <td>0</td>\n",
              "    </tr>\n",
              "    <tr>\n",
              "      <th>2</th>\n",
              "      <td>3</td>\n",
              "      <td>Rishichem Distributors Pvt., Ltd.</td>\n",
              "      <td>Dsa</td>\n",
              "      <td>0</td>\n",
              "    </tr>\n",
              "    <tr>\n",
              "      <th>3</th>\n",
              "      <td>4</td>\n",
              "      <td>Powermax Rubber Factory</td>\n",
              "      <td>Co. One</td>\n",
              "      <td>0</td>\n",
              "    </tr>\n",
              "    <tr>\n",
              "      <th>4</th>\n",
              "      <td>5</td>\n",
              "      <td>Tress A/S</td>\n",
              "      <td>Longyou Industries Park Zhejiang</td>\n",
              "      <td>0</td>\n",
              "    </tr>\n",
              "    <tr>\n",
              "      <th>...</th>\n",
              "      <td>...</td>\n",
              "      <td>...</td>\n",
              "      <td>...</td>\n",
              "      <td>...</td>\n",
              "    </tr>\n",
              "    <tr>\n",
              "      <th>497814</th>\n",
              "      <td>497815</td>\n",
              "      <td>BIT-MAT PRODUCTS</td>\n",
              "      <td>The Goodyear Tire and Rubber Company</td>\n",
              "      <td>0</td>\n",
              "    </tr>\n",
              "    <tr>\n",
              "      <th>497815</th>\n",
              "      <td>497816</td>\n",
              "      <td>Bnd Trading Co., Ltd.</td>\n",
              "      <td>Zhong Shan Yue Liang Economy&amp; Trade Imp. &amp; Exp...</td>\n",
              "      <td>0</td>\n",
              "    </tr>\n",
              "    <tr>\n",
              "      <th>497816</th>\n",
              "      <td>497817</td>\n",
              "      <td>Xeikon Industrial Co., Ltd. Of Dongguan City</td>\n",
              "      <td>Yi Cheng Trading Co., Ltd. Of Dongguan City</td>\n",
              "      <td>0</td>\n",
              "    </tr>\n",
              "    <tr>\n",
              "      <th>497817</th>\n",
              "      <td>497818</td>\n",
              "      <td>Shanghai Kechuan Trading Co., Ltd.</td>\n",
              "      <td>Shanghai M&amp;G Stationery Inc.</td>\n",
              "      <td>0</td>\n",
              "    </tr>\n",
              "    <tr>\n",
              "      <th>497818</th>\n",
              "      <td>497819</td>\n",
              "      <td>Dih Wei Industries Co.</td>\n",
              "      <td>Burlington Industries Corporate</td>\n",
              "      <td>0</td>\n",
              "    </tr>\n",
              "  </tbody>\n",
              "</table>\n",
              "<p>497819 rows × 4 columns</p>\n",
              "</div>\n",
              "      <button class=\"colab-df-convert\" onclick=\"convertToInteractive('df-ece11423-6c99-42ec-8c53-b7aacbc61d49')\"\n",
              "              title=\"Convert this dataframe to an interactive table.\"\n",
              "              style=\"display:none;\">\n",
              "        \n",
              "  <svg xmlns=\"http://www.w3.org/2000/svg\" height=\"24px\"viewBox=\"0 0 24 24\"\n",
              "       width=\"24px\">\n",
              "    <path d=\"M0 0h24v24H0V0z\" fill=\"none\"/>\n",
              "    <path d=\"M18.56 5.44l.94 2.06.94-2.06 2.06-.94-2.06-.94-.94-2.06-.94 2.06-2.06.94zm-11 1L8.5 8.5l.94-2.06 2.06-.94-2.06-.94L8.5 2.5l-.94 2.06-2.06.94zm10 10l.94 2.06.94-2.06 2.06-.94-2.06-.94-.94-2.06-.94 2.06-2.06.94z\"/><path d=\"M17.41 7.96l-1.37-1.37c-.4-.4-.92-.59-1.43-.59-.52 0-1.04.2-1.43.59L10.3 9.45l-7.72 7.72c-.78.78-.78 2.05 0 2.83L4 21.41c.39.39.9.59 1.41.59.51 0 1.02-.2 1.41-.59l7.78-7.78 2.81-2.81c.8-.78.8-2.07 0-2.86zM5.41 20L4 18.59l7.72-7.72 1.47 1.35L5.41 20z\"/>\n",
              "  </svg>\n",
              "      </button>\n",
              "      \n",
              "  <style>\n",
              "    .colab-df-container {\n",
              "      display:flex;\n",
              "      flex-wrap:wrap;\n",
              "      gap: 12px;\n",
              "    }\n",
              "\n",
              "    .colab-df-convert {\n",
              "      background-color: #E8F0FE;\n",
              "      border: none;\n",
              "      border-radius: 50%;\n",
              "      cursor: pointer;\n",
              "      display: none;\n",
              "      fill: #1967D2;\n",
              "      height: 32px;\n",
              "      padding: 0 0 0 0;\n",
              "      width: 32px;\n",
              "    }\n",
              "\n",
              "    .colab-df-convert:hover {\n",
              "      background-color: #E2EBFA;\n",
              "      box-shadow: 0px 1px 2px rgba(60, 64, 67, 0.3), 0px 1px 3px 1px rgba(60, 64, 67, 0.15);\n",
              "      fill: #174EA6;\n",
              "    }\n",
              "\n",
              "    [theme=dark] .colab-df-convert {\n",
              "      background-color: #3B4455;\n",
              "      fill: #D2E3FC;\n",
              "    }\n",
              "\n",
              "    [theme=dark] .colab-df-convert:hover {\n",
              "      background-color: #434B5C;\n",
              "      box-shadow: 0px 1px 3px 1px rgba(0, 0, 0, 0.15);\n",
              "      filter: drop-shadow(0px 1px 2px rgba(0, 0, 0, 0.3));\n",
              "      fill: #FFFFFF;\n",
              "    }\n",
              "  </style>\n",
              "\n",
              "      <script>\n",
              "        const buttonEl =\n",
              "          document.querySelector('#df-ece11423-6c99-42ec-8c53-b7aacbc61d49 button.colab-df-convert');\n",
              "        buttonEl.style.display =\n",
              "          google.colab.kernel.accessAllowed ? 'block' : 'none';\n",
              "\n",
              "        async function convertToInteractive(key) {\n",
              "          const element = document.querySelector('#df-ece11423-6c99-42ec-8c53-b7aacbc61d49');\n",
              "          const dataTable =\n",
              "            await google.colab.kernel.invokeFunction('convertToInteractive',\n",
              "                                                     [key], {});\n",
              "          if (!dataTable) return;\n",
              "\n",
              "          const docLinkHtml = 'Like what you see? Visit the ' +\n",
              "            '<a target=\"_blank\" href=https://colab.research.google.com/notebooks/data_table.ipynb>data table notebook</a>'\n",
              "            + ' to learn more about interactive tables.';\n",
              "          element.innerHTML = '';\n",
              "          dataTable['output_type'] = 'display_data';\n",
              "          await google.colab.output.renderOutput(dataTable, element);\n",
              "          const docLink = document.createElement('div');\n",
              "          docLink.innerHTML = docLinkHtml;\n",
              "          element.appendChild(docLink);\n",
              "        }\n",
              "      </script>\n",
              "    </div>\n",
              "  </div>\n",
              "  "
            ]
          },
          "metadata": {},
          "execution_count": 5
        }
      ]
    },
    {
      "cell_type": "code",
      "source": [
        "train_df.is_duplicate.value_counts()"
      ],
      "metadata": {
        "colab": {
          "base_uri": "https://localhost:8080/"
        },
        "id": "YiHGPTRSlwUv",
        "outputId": "c993f459-ae04-4ace-924c-07be25774f02"
      },
      "execution_count": 6,
      "outputs": [
        {
          "output_type": "execute_result",
          "data": {
            "text/plain": [
              "0    494161\n",
              "1      3658\n",
              "Name: is_duplicate, dtype: int64"
            ]
          },
          "metadata": {},
          "execution_count": 6
        }
      ]
    },
    {
      "cell_type": "code",
      "source": [
        "train_df.is_duplicate.value_counts(normalize=True)*100"
      ],
      "metadata": {
        "colab": {
          "base_uri": "https://localhost:8080/"
        },
        "id": "lBdDJpyipr8A",
        "outputId": "890f2258-b4bd-49fa-aba6-9edf500daf72"
      },
      "execution_count": 7,
      "outputs": [
        {
          "output_type": "execute_result",
          "data": {
            "text/plain": [
              "0    99.265195\n",
              "1     0.734805\n",
              "Name: is_duplicate, dtype: float64"
            ]
          },
          "metadata": {},
          "execution_count": 7
        }
      ]
    },
    {
      "cell_type": "code",
      "source": [
        "train_df[train_df.is_duplicate==1][:20]"
      ],
      "metadata": {
        "id": "FpF39gO2mPbz"
      },
      "execution_count": null,
      "outputs": []
    },
    {
      "cell_type": "code",
      "source": [
        "train_df[train_df.is_duplicate==0].tail(20)"
      ],
      "metadata": {
        "id": "uO1LN4t7m9sd"
      },
      "execution_count": null,
      "outputs": []
    },
    {
      "cell_type": "code",
      "source": [
        "a = ord('а') # cyrillic \"А\"\n",
        "rus_alphabet = ''.join([chr(i) for i in range(a,a+6)] + [chr(a+33)] + [chr(i) for i in range(a+6,a+32)])"
      ],
      "metadata": {
        "id": "G7Sx6ghymqe0"
      },
      "execution_count": 17,
      "outputs": []
    },
    {
      "cell_type": "code",
      "source": [
        "def preprocessing(x: str) -> str:\n",
        "    \n",
        "    def rus_preprocess(x: str) -> str:\n",
        "        forms_of_ownership = [\n",
        "            'ооо',\n",
        "            'оао',\n",
        "            'общество с ограниченной ответственностью',\n",
        "            'открытое акционерное общество',\n",
        "            'филиал компании'\n",
        "        ]\n",
        "        \n",
        "        for form in forms_of_ownership:\n",
        "            pattern = re.compile(form)\n",
        "            x = pattern.sub('', x)\n",
        "            \n",
        "        return x\n",
        "    \n",
        "    @transliterate_function(language_code='ru', reversed=True)\n",
        "    def translit(x: str) -> str:\n",
        "        return x\n",
        "    \n",
        "    \n",
        "    x = x.strip().lower()\n",
        "    x = basename(x) if not bool(set(rus_alphabet).intersection(set(x.lower()))) else rus_preprocess(x)\n",
        "    x = unicodedata.normalize('NFKD', x).encode('ASCII', 'ignore').decode() if not bool(set(rus_alphabet).intersection(set(x.lower()))) else translit(x)\n",
        "    x = basename(x)\n",
        "    x = re.sub(r'[^\\w\\s]',' ', x)\n",
        "    \n",
        "    return [s for s in x.split()] if len(x.split()) != 0 else '-' * 5"
      ],
      "metadata": {
        "id": "AEFYU3t6l-VI"
      },
      "execution_count": 21,
      "outputs": []
    },
    {
      "cell_type": "code",
      "source": [
        "name_1_corpus = train_df.name_1\n",
        "name_2_corpus = train_df.name_2"
      ],
      "metadata": {
        "id": "e8N3YvF7ifXf"
      },
      "execution_count": 13,
      "outputs": []
    },
    {
      "cell_type": "code",
      "source": [
        "print(len(name_1_corpus))\n",
        "index = random.randint(0, train_df.shape[0])\n",
        "name_1_corpus[index]"
      ],
      "metadata": {
        "colab": {
          "base_uri": "https://localhost:8080/",
          "height": 53
        },
        "id": "ccOZWngp2q0S",
        "outputId": "63523f15-0309-4289-f422-7350e8601b93"
      },
      "execution_count": 35,
      "outputs": [
        {
          "output_type": "stream",
          "name": "stdout",
          "text": [
            "497819\n"
          ]
        },
        {
          "output_type": "execute_result",
          "data": {
            "text/plain": [
              "'Darshan Kripa General Trading Llc'"
            ],
            "application/vnd.google.colaboratory.intrinsic+json": {
              "type": "string"
            }
          },
          "metadata": {},
          "execution_count": 35
        }
      ]
    },
    {
      "cell_type": "code",
      "source": [
        "n_1_all=[]\n",
        "for line in tqdm_notebook(name_1_corpus):\n",
        "        spls = preprocessing(line)\n",
        "        n_1_all.append(spls)"
      ],
      "metadata": {
        "colab": {
          "base_uri": "https://localhost:8080/",
          "height": 103,
          "referenced_widgets": [
            "6c28ff08172349d4887eb6f83e6fb690",
            "ebc484e84aee42aa91b7c5482711ccc8",
            "1fc3efdb54854e14acd26faa2ba5463c",
            "396efad1c0924741b32d8c29caecba70",
            "98fcdefc2334432bbdf7b328ec9d8737",
            "5dd23198b5a24ff59b050ed4203469db",
            "8bb1c0cbbe3d4c23bd5b786ba45c516a",
            "43cc285682554e7dbd5ab44a14165036",
            "e553f540eeb448918bc13742e97423dd",
            "5b777ae400f840a3b283b87ff5275f49",
            "49ff4f47e12d41bd9fac338364a83743"
          ]
        },
        "id": "OrGnM2Jpi4zA",
        "outputId": "57185e0f-a7e7-464d-fa3f-56bd640c91da"
      },
      "execution_count": 22,
      "outputs": [
        {
          "output_type": "stream",
          "name": "stderr",
          "text": [
            "/usr/local/lib/python3.7/dist-packages/ipykernel_launcher.py:2: TqdmDeprecationWarning: This function will be removed in tqdm==5.0.0\n",
            "Please use `tqdm.notebook.tqdm` instead of `tqdm.tqdm_notebook`\n",
            "  \n"
          ]
        },
        {
          "output_type": "display_data",
          "data": {
            "text/plain": [
              "  0%|          | 0/497819 [00:00<?, ?it/s]"
            ],
            "application/vnd.jupyter.widget-view+json": {
              "version_major": 2,
              "version_minor": 0,
              "model_id": "6c28ff08172349d4887eb6f83e6fb690"
            }
          },
          "metadata": {}
        }
      ]
    },
    {
      "cell_type": "code",
      "source": [
        "print(len(n_1_all))\n",
        "n_1_all[index]"
      ],
      "metadata": {
        "colab": {
          "base_uri": "https://localhost:8080/"
        },
        "id": "U9MczdEAjQwU",
        "outputId": "379a3abe-3a71-475a-b5ba-8971075268a9"
      },
      "execution_count": 36,
      "outputs": [
        {
          "output_type": "stream",
          "name": "stdout",
          "text": [
            "497819\n"
          ]
        },
        {
          "output_type": "execute_result",
          "data": {
            "text/plain": [
              "['darshan', 'kripa', 'general', 'trading']"
            ]
          },
          "metadata": {},
          "execution_count": 36
        }
      ]
    },
    {
      "cell_type": "code",
      "source": [
        "n_2_all=[]\n",
        "for line in tqdm_notebook(name_2_corpus):\n",
        "        spls = preprocessing(line)\n",
        "        n_2_all.append(spls)"
      ],
      "metadata": {
        "colab": {
          "base_uri": "https://localhost:8080/",
          "height": 103,
          "referenced_widgets": [
            "9fb07752c9cc4eaeb3872131c53d3340",
            "e867dcd7b6be4834bd24e184cfd9328e",
            "f06a3f2ffd044b929f1144d353d9923a",
            "feabeacf23cd4698ba97d67a32a12dcb",
            "e4475381eb574458a872b9748c844272",
            "e9bf005120f3415eabfded5e6a958c9a",
            "fb8aec92721b4110b9dfa0f41c5f0445",
            "3c1c2f3dc45b4730bb955245fdd4ed3f",
            "edbb0638c41946e88c82051b680f644e",
            "1bfcceb3cdea421ebb1c2b20a10790dd",
            "818c5919013242fd98504272aa60767d"
          ]
        },
        "id": "JV7AnaOfjb2S",
        "outputId": "1767b9b2-6f61-4288-e785-54bfa3f4b615"
      },
      "execution_count": 24,
      "outputs": [
        {
          "output_type": "stream",
          "name": "stderr",
          "text": [
            "/usr/local/lib/python3.7/dist-packages/ipykernel_launcher.py:2: TqdmDeprecationWarning: This function will be removed in tqdm==5.0.0\n",
            "Please use `tqdm.notebook.tqdm` instead of `tqdm.tqdm_notebook`\n",
            "  \n"
          ]
        },
        {
          "output_type": "display_data",
          "data": {
            "text/plain": [
              "  0%|          | 0/497819 [00:00<?, ?it/s]"
            ],
            "application/vnd.jupyter.widget-view+json": {
              "version_major": 2,
              "version_minor": 0,
              "model_id": "9fb07752c9cc4eaeb3872131c53d3340"
            }
          },
          "metadata": {}
        }
      ]
    },
    {
      "cell_type": "markdown",
      "source": [
        "#Word2Vec, Fasttext, Annoy"
      ],
      "metadata": {
        "id": "1uVl8OJjv8Jt"
      }
    },
    {
      "cell_type": "code",
      "source": [
        "#create corpus\n",
        "all_names = n_1_all+n_2_all"
      ],
      "metadata": {
        "id": "t006qiK7tmOs"
      },
      "execution_count": 25,
      "outputs": []
    },
    {
      "cell_type": "code",
      "source": [
        "# training models (takes some time)\n",
        "\n",
        "modelW2V = Word2Vec(sentences=all_names, size=100, window=5, min_count=1)\n",
        "\n",
        "modelFT = FastText(sentences=all_names, size=100, min_count=1, window=5, workers=8)"
      ],
      "metadata": {
        "id": "b9ofm7HMwbWZ"
      },
      "execution_count": 26,
      "outputs": []
    },
    {
      "cell_type": "code",
      "source": [
        "# craete Annoy indexes\n",
        "index_w2v = annoy.AnnoyIndex(100 ,'angular') #using angular metric\n",
        "index_ft = annoy.AnnoyIndex(100 ,'angular')\n",
        "\n",
        "\n",
        "for i, sent in enumerate(all_names):\n",
        "\n",
        "    res1 = [modelW2V.wv[w] for w in sent if w in modelW2V.wv]\n",
        "    v_w2v = sum(res1) / len(res1) if res1 else np.zeros(100)\n",
        "\n",
        "    res2 = [modelFT.wv[w] for w in sent if w in modelFT.wv]\n",
        "    v_ft = sum(res2) / len(res2) if res2 else np.zeros(100)\n",
        "\n",
        "    index_w2v.add_item(i, v_w2v)\n",
        "    index_ft.add_item(i, v_ft)\n",
        "\n",
        "\n",
        "\n",
        "index_w2v.build(10) #10 Trees\n",
        "index_ft.build(10)"
      ],
      "metadata": {
        "colab": {
          "base_uri": "https://localhost:8080/"
        },
        "id": "9xVqP1hHyqw8",
        "outputId": "3406dc31-b3cd-4b0e-aa49-1b5484316c02"
      },
      "execution_count": 27,
      "outputs": [
        {
          "output_type": "execute_result",
          "data": {
            "text/plain": [
              "True"
            ]
          },
          "metadata": {},
          "execution_count": 27
        }
      ]
    },
    {
      "cell_type": "code",
      "source": [
        "names_raw = train_df.name_1 + train_df.name_2"
      ],
      "metadata": {
        "id": "OpXgRAf2uWr7"
      },
      "execution_count": 28,
      "outputs": []
    },
    {
      "cell_type": "code",
      "source": [
        "def get_response(text, index, model):\n",
        "    text = preprocessing(text)\n",
        "    w_v  = [model.wv[w] for w in text if w in model.wv ]\n",
        "    tweet_vector = sum(w_v) / len(w_v) if w_v else np.zeros(100)\n",
        "    result = index.get_nns_by_vector(tweet_vector, 10) #10 nearest with distance\n",
        "\n",
        "    return [names_raw[i] for i in result] "
      ],
      "metadata": {
        "id": "8z3Plpoz4laO"
      },
      "execution_count": 29,
      "outputs": []
    },
    {
      "cell_type": "code",
      "source": [
        "# choose random brand\n",
        "df_dub = train_df[train_df.is_duplicate==1]\n",
        "rand_i = random.randint(0, df_dub.shape[0])\n",
        "test_brand = df_dub.name_1.iloc[rand_i]\n",
        "print(f'исходная компания {test_brand}')\n",
        "print('----------------')\n",
        "print(f'соответствие из исходной таблицы {df_dub.name_2.iloc[rand_i]}')"
      ],
      "metadata": {
        "colab": {
          "base_uri": "https://localhost:8080/"
        },
        "id": "a_WSlJDArWdc",
        "outputId": "99546fe8-5351-40ca-c83d-8f0d547ed092"
      },
      "execution_count": 37,
      "outputs": [
        {
          "output_type": "stream",
          "name": "stdout",
          "text": [
            "исходная компания Pt Bridgestone Tire Indonesia\n",
            "----------------\n",
            "соответствие из исходной таблицы Bridgestone India\n"
          ]
        }
      ]
    },
    {
      "cell_type": "code",
      "source": [
        "# word2vec vectors\n",
        "%time\n",
        "response = get_response(test_brand, index_w2v, modelW2V)\n",
        "print(test_brand)\n",
        "print('*'*50)\n",
        "for line in response:\n",
        "  \n",
        "  print(line)\n",
        "  print('-'*50)"
      ],
      "metadata": {
        "colab": {
          "base_uri": "https://localhost:8080/"
        },
        "id": "651RrDTJEIIT",
        "outputId": "18a93de7-240a-4e1b-b804-278927381079"
      },
      "execution_count": 39,
      "outputs": [
        {
          "output_type": "stream",
          "name": "stdout",
          "text": [
            "CPU times: user 4 µs, sys: 0 ns, total: 4 µs\n",
            "Wall time: 9.06 µs\n",
            "Pt Bridgestone Tire Indonesia\n",
            "**************************************************\n",
            "Pt Bridgestone Tire IndonesiaBridgestone Do Brasil Industria E Comenrcio Ltda\n",
            "--------------------------------------------------\n",
            "Pt Bridgestone Tire IndonesiaThai Bridgestone Co., Ltd.\n",
            "--------------------------------------------------\n",
            "Pt Bridgestone Tire IndonesiaUsa.\n",
            "--------------------------------------------------\n",
            "Pt Bridgestone Tire IndonesiaBridgestone Firestone Venezolana C\n",
            "--------------------------------------------------\n",
            "Pt Bridgestone Tire IndonesiaBridgestone Do Brasil Industria E Comercio Ltda\n",
            "--------------------------------------------------\n",
            "Pt Bridgestone Tire IndonesiaBridgestone Canada Inc.\n",
            "--------------------------------------------------\n",
            "Pt Bridgestone Tire IndonesiaBridgestone India Pvt., Ltd.\n",
            "--------------------------------------------------\n",
            "Pt Bridgestone Tire IndonesiaBridgestone Firestone Do Brasil\n",
            "--------------------------------------------------\n",
            "Pt Bridgestone Tire IndonesiaBridgestone (Tianjin) Tire Co., Ltd.\n",
            "--------------------------------------------------\n",
            "Pt Bridgestone Tire IndonesiaBridgestone (Huizhou) Tire Co., Ltd.\n",
            "--------------------------------------------------\n"
          ]
        }
      ]
    },
    {
      "cell_type": "code",
      "source": [
        "#FastText vectors\n",
        "%time\n",
        "response = get_response(test_brand, index_ft, modelFT)\n",
        "print(test_brand)\n",
        "print('*'*50)\n",
        "for line in response:\n",
        "  \n",
        "  print(line)\n",
        "  print('-'*50)"
      ],
      "metadata": {
        "id": "bQ61t1FdZrvg",
        "colab": {
          "base_uri": "https://localhost:8080/"
        },
        "outputId": "fa9c5f6a-f148-486a-f932-3813ac28ff02"
      },
      "execution_count": 38,
      "outputs": [
        {
          "output_type": "stream",
          "name": "stdout",
          "text": [
            "CPU times: user 13 µs, sys: 0 ns, total: 13 µs\n",
            "Wall time: 26 µs\n",
            "Pt Bridgestone Tire Indonesia\n",
            "**************************************************\n",
            "Pt Bridgestone Tire IndonesiaBridgestone Do Brasil Industria E Comenrcio Ltda\n",
            "--------------------------------------------------\n",
            "Pt Bridgestone Tire IndonesiaThai Bridgestone Co., Ltd.\n",
            "--------------------------------------------------\n",
            "Pt Bridgestone Tire IndonesiaUsa.\n",
            "--------------------------------------------------\n",
            "Pt Bridgestone Tire IndonesiaBridgestone Firestone Venezolana C\n",
            "--------------------------------------------------\n",
            "Pt Bridgestone Tire IndonesiaBridgestone Do Brasil Industria E Comercio Ltda\n",
            "--------------------------------------------------\n",
            "Pt Bridgestone Tire IndonesiaBridgestone Canada Inc.\n",
            "--------------------------------------------------\n",
            "Pt Bridgestone Tire IndonesiaBridgestone India Pvt., Ltd.\n",
            "--------------------------------------------------\n",
            "Pt Bridgestone Tire IndonesiaBridgestone Firestone Do Brasil\n",
            "--------------------------------------------------\n",
            "Pt Bridgestone Tire IndonesiaBridgestone (Tianjin) Tire Co., Ltd.\n",
            "--------------------------------------------------\n",
            "Pt Bridgestone Tire IndonesiaBridgestone (Huizhou) Tire Co., Ltd.\n",
            "--------------------------------------------------\n"
          ]
        }
      ]
    },
    {
      "cell_type": "markdown",
      "source": [
        "#both models showed good results, the processing speed of each name is equal, which allows you to scale the project"
      ],
      "metadata": {
        "id": "N_g4I4gD0GpX"
      }
    }
  ]
}
