{
 "cells": [
  {
   "cell_type": "code",
   "execution_count": null,
   "id": "883d4329",
   "metadata": {
    "id": "883d4329"
   },
   "outputs": [],
   "source": [
    "# install libs\n",
    "!pip install cleanco\n",
    "!pip install transliterate\n",
    "!pip install thefuzz\n",
    "!pip install abydos\n",
    "!pip install python-Levenshtein\n",
    "!pip install jellyfish\n",
    "!pip install distance"
   ]
  },
  {
   "cell_type": "code",
   "execution_count": null,
   "id": "Pzxtpxio49_9",
   "metadata": {
    "colab": {
     "base_uri": "https://localhost:8080/"
    },
    "executionInfo": {
     "elapsed": 24082,
     "status": "ok",
     "timestamp": 1666610218296,
     "user": {
      "displayName": "Фей Хоа",
      "userId": "04972491610814607252"
     },
     "user_tz": -180
    },
    "id": "Pzxtpxio49_9",
    "outputId": "7d53234e-436c-4cfe-bfb7-4eeb734bb77c"
   },
   "outputs": [
    {
     "name": "stdout",
     "output_type": "stream",
     "text": [
      "Mounted at /content/drive\n"
     ]
    }
   ],
   "source": [
    "from google.colab import drive\n",
    "drive.mount('/content/drive')"
   ]
  },
  {
   "cell_type": "code",
   "execution_count": null,
   "id": "798affcf",
   "metadata": {
    "id": "798affcf"
   },
   "outputs": [],
   "source": [
    "import numpy as np\n",
    "import pandas as pd\n",
    "import re\n",
    "import unicodedata\n",
    "from cleanco import basename\n",
    "from transliterate.decorators import transliterate_function\n",
    "\n",
    "import difflib\n",
    "import abydos.distance as abd\n",
    "from thefuzz import fuzz\n",
    "import Levenshtein, distance, jellyfish\n",
    "import warnings\n",
    "\n",
    "warnings.filterwarnings(\"ignore\")"
   ]
  },
  {
   "cell_type": "code",
   "execution_count": null,
   "id": "d4jhLFYdIZCT",
   "metadata": {
    "id": "d4jhLFYdIZCT"
   },
   "outputs": [],
   "source": [
    "!wget -O train.csv https://getfile.dokpub.com/yandex/get/https://disk.yandex.ru/d/03C9AjRJqukWcg"
   ]
  },
  {
   "cell_type": "code",
   "execution_count": null,
   "id": "08f94aa6",
   "metadata": {
    "colab": {
     "base_uri": "https://localhost:8080/",
     "height": 238
    },
    "executionInfo": {
     "elapsed": 688,
     "status": "ok",
     "timestamp": 1666611964878,
     "user": {
      "displayName": "Фей Хоа",
      "userId": "04972491610814607252"
     },
     "user_tz": -180
    },
    "id": "08f94aa6",
    "outputId": "99e77b54-75d8-49df-b3ed-19050b37453e"
   },
   "outputs": [
    {
     "data": {
      "text/html": [
       "\n",
       "  <div id=\"df-93ca7145-25f4-4cd0-a9da-bf8caab0d736\">\n",
       "    <div class=\"colab-df-container\">\n",
       "      <div>\n",
       "<style scoped>\n",
       "    .dataframe tbody tr th:only-of-type {\n",
       "        vertical-align: middle;\n",
       "    }\n",
       "\n",
       "    .dataframe tbody tr th {\n",
       "        vertical-align: top;\n",
       "    }\n",
       "\n",
       "    .dataframe thead th {\n",
       "        text-align: right;\n",
       "    }\n",
       "</style>\n",
       "<table border=\"1\" class=\"dataframe\">\n",
       "  <thead>\n",
       "    <tr style=\"text-align: right;\">\n",
       "      <th></th>\n",
       "      <th>name_1</th>\n",
       "      <th>name_2</th>\n",
       "      <th>is_duplicate</th>\n",
       "    </tr>\n",
       "    <tr>\n",
       "      <th>pair_id</th>\n",
       "      <th></th>\n",
       "      <th></th>\n",
       "      <th></th>\n",
       "    </tr>\n",
       "  </thead>\n",
       "  <tbody>\n",
       "    <tr>\n",
       "      <th>1</th>\n",
       "      <td>Iko Industries Ltd.</td>\n",
       "      <td>Enormous Industrial Trade Pvt., Ltd.</td>\n",
       "      <td>0</td>\n",
       "    </tr>\n",
       "    <tr>\n",
       "      <th>2</th>\n",
       "      <td>Apcotex Industries Ltd.</td>\n",
       "      <td>Technocraft Industries (India) Ltd.</td>\n",
       "      <td>0</td>\n",
       "    </tr>\n",
       "    <tr>\n",
       "      <th>3</th>\n",
       "      <td>Rishichem Distributors Pvt., Ltd.</td>\n",
       "      <td>Dsa</td>\n",
       "      <td>0</td>\n",
       "    </tr>\n",
       "    <tr>\n",
       "      <th>4</th>\n",
       "      <td>Powermax Rubber Factory</td>\n",
       "      <td>Co. One</td>\n",
       "      <td>0</td>\n",
       "    </tr>\n",
       "    <tr>\n",
       "      <th>5</th>\n",
       "      <td>Tress A/S</td>\n",
       "      <td>Longyou Industries Park Zhejiang</td>\n",
       "      <td>0</td>\n",
       "    </tr>\n",
       "  </tbody>\n",
       "</table>\n",
       "</div>\n",
       "      <button class=\"colab-df-convert\" onclick=\"convertToInteractive('df-93ca7145-25f4-4cd0-a9da-bf8caab0d736')\"\n",
       "              title=\"Convert this dataframe to an interactive table.\"\n",
       "              style=\"display:none;\">\n",
       "        \n",
       "  <svg xmlns=\"http://www.w3.org/2000/svg\" height=\"24px\"viewBox=\"0 0 24 24\"\n",
       "       width=\"24px\">\n",
       "    <path d=\"M0 0h24v24H0V0z\" fill=\"none\"/>\n",
       "    <path d=\"M18.56 5.44l.94 2.06.94-2.06 2.06-.94-2.06-.94-.94-2.06-.94 2.06-2.06.94zm-11 1L8.5 8.5l.94-2.06 2.06-.94-2.06-.94L8.5 2.5l-.94 2.06-2.06.94zm10 10l.94 2.06.94-2.06 2.06-.94-2.06-.94-.94-2.06-.94 2.06-2.06.94z\"/><path d=\"M17.41 7.96l-1.37-1.37c-.4-.4-.92-.59-1.43-.59-.52 0-1.04.2-1.43.59L10.3 9.45l-7.72 7.72c-.78.78-.78 2.05 0 2.83L4 21.41c.39.39.9.59 1.41.59.51 0 1.02-.2 1.41-.59l7.78-7.78 2.81-2.81c.8-.78.8-2.07 0-2.86zM5.41 20L4 18.59l7.72-7.72 1.47 1.35L5.41 20z\"/>\n",
       "  </svg>\n",
       "      </button>\n",
       "      \n",
       "  <style>\n",
       "    .colab-df-container {\n",
       "      display:flex;\n",
       "      flex-wrap:wrap;\n",
       "      gap: 12px;\n",
       "    }\n",
       "\n",
       "    .colab-df-convert {\n",
       "      background-color: #E8F0FE;\n",
       "      border: none;\n",
       "      border-radius: 50%;\n",
       "      cursor: pointer;\n",
       "      display: none;\n",
       "      fill: #1967D2;\n",
       "      height: 32px;\n",
       "      padding: 0 0 0 0;\n",
       "      width: 32px;\n",
       "    }\n",
       "\n",
       "    .colab-df-convert:hover {\n",
       "      background-color: #E2EBFA;\n",
       "      box-shadow: 0px 1px 2px rgba(60, 64, 67, 0.3), 0px 1px 3px 1px rgba(60, 64, 67, 0.15);\n",
       "      fill: #174EA6;\n",
       "    }\n",
       "\n",
       "    [theme=dark] .colab-df-convert {\n",
       "      background-color: #3B4455;\n",
       "      fill: #D2E3FC;\n",
       "    }\n",
       "\n",
       "    [theme=dark] .colab-df-convert:hover {\n",
       "      background-color: #434B5C;\n",
       "      box-shadow: 0px 1px 3px 1px rgba(0, 0, 0, 0.15);\n",
       "      filter: drop-shadow(0px 1px 2px rgba(0, 0, 0, 0.3));\n",
       "      fill: #FFFFFF;\n",
       "    }\n",
       "  </style>\n",
       "\n",
       "      <script>\n",
       "        const buttonEl =\n",
       "          document.querySelector('#df-93ca7145-25f4-4cd0-a9da-bf8caab0d736 button.colab-df-convert');\n",
       "        buttonEl.style.display =\n",
       "          google.colab.kernel.accessAllowed ? 'block' : 'none';\n",
       "\n",
       "        async function convertToInteractive(key) {\n",
       "          const element = document.querySelector('#df-93ca7145-25f4-4cd0-a9da-bf8caab0d736');\n",
       "          const dataTable =\n",
       "            await google.colab.kernel.invokeFunction('convertToInteractive',\n",
       "                                                     [key], {});\n",
       "          if (!dataTable) return;\n",
       "\n",
       "          const docLinkHtml = 'Like what you see? Visit the ' +\n",
       "            '<a target=\"_blank\" href=https://colab.research.google.com/notebooks/data_table.ipynb>data table notebook</a>'\n",
       "            + ' to learn more about interactive tables.';\n",
       "          element.innerHTML = '';\n",
       "          dataTable['output_type'] = 'display_data';\n",
       "          await google.colab.output.renderOutput(dataTable, element);\n",
       "          const docLink = document.createElement('div');\n",
       "          docLink.innerHTML = docLinkHtml;\n",
       "          element.appendChild(docLink);\n",
       "        }\n",
       "      </script>\n",
       "    </div>\n",
       "  </div>\n",
       "  "
      ],
      "text/plain": [
       "                                    name_1  \\\n",
       "pair_id                                      \n",
       "1                      Iko Industries Ltd.   \n",
       "2                  Apcotex Industries Ltd.   \n",
       "3        Rishichem Distributors Pvt., Ltd.   \n",
       "4                  Powermax Rubber Factory   \n",
       "5                                Tress A/S   \n",
       "\n",
       "                                       name_2  is_duplicate  \n",
       "pair_id                                                      \n",
       "1        Enormous Industrial Trade Pvt., Ltd.             0  \n",
       "2         Technocraft Industries (India) Ltd.             0  \n",
       "3                                         Dsa             0  \n",
       "4                                     Co. One             0  \n",
       "5            Longyou Industries Park Zhejiang             0  "
      ]
     },
     "execution_count": 19,
     "metadata": {},
     "output_type": "execute_result"
    }
   ],
   "source": [
    "df = pd.read_csv('train.csv', index_col='pair_id')\n",
    "df.head()"
   ]
  },
  {
   "cell_type": "code",
   "execution_count": null,
   "id": "d4653d22",
   "metadata": {
    "colab": {
     "base_uri": "https://localhost:8080/"
    },
    "executionInfo": {
     "elapsed": 315,
     "status": "ok",
     "timestamp": 1666611968060,
     "user": {
      "displayName": "Фей Хоа",
      "userId": "04972491610814607252"
     },
     "user_tz": -180
    },
    "id": "d4653d22",
    "outputId": "5f011e40-177c-43c9-b8a6-6e201adb3720"
   },
   "outputs": [
    {
     "data": {
      "text/plain": [
       "0    0.992652\n",
       "1    0.007348\n",
       "Name: is_duplicate, dtype: float64"
      ]
     },
     "execution_count": 20,
     "metadata": {},
     "output_type": "execute_result"
    }
   ],
   "source": [
    "df.is_duplicate.value_counts(normalize=True)"
   ]
  },
  {
   "cell_type": "markdown",
   "id": "bbd53175",
   "metadata": {
    "id": "bbd53175"
   },
   "source": [
    "#### Checking how many company names in the columns \"name_1\" and \"name_2\" contain Cyrillic characters"
   ]
  },
  {
   "cell_type": "code",
   "execution_count": null,
   "id": "c23b0f45",
   "metadata": {
    "colab": {
     "base_uri": "https://localhost:8080/"
    },
    "executionInfo": {
     "elapsed": 2042,
     "status": "ok",
     "timestamp": 1666611971825,
     "user": {
      "displayName": "Фей Хоа",
      "userId": "04972491610814607252"
     },
     "user_tz": -180
    },
    "id": "c23b0f45",
    "outputId": "b5947e59-81a5-46a7-b8c2-74f0a6ddc367"
   },
   "outputs": [
    {
     "data": {
      "text/plain": [
       "False    0.99507\n",
       "True     0.00493\n",
       "dtype: float64"
      ]
     },
     "execution_count": 21,
     "metadata": {},
     "output_type": "execute_result"
    }
   ],
   "source": [
    "a = ord('а') # Cyrillic characters \"А\"\n",
    "rus_alphabet = ''.join([chr(i) for i in range(a,a+6)] + [chr(a+33)] + [chr(i) for i in range(a+6,a+32)])\n",
    "\n",
    "check = (df.name_1 + df.name_2).apply(lambda x: bool(set(rus_alphabet).intersection(set(x.lower()))))\n",
    "check.value_counts(normalize=True)"
   ]
  },
  {
   "cell_type": "markdown",
   "id": "19da7839",
   "metadata": {
    "id": "19da7839"
   },
   "source": [
    "#### Target variable distribution when comparing strings with Cyrillic characters:"
   ]
  },
  {
   "cell_type": "code",
   "execution_count": null,
   "id": "6f156a1c",
   "metadata": {
    "colab": {
     "base_uri": "https://localhost:8080/"
    },
    "executionInfo": {
     "elapsed": 424,
     "status": "ok",
     "timestamp": 1666611974359,
     "user": {
      "displayName": "Фей Хоа",
      "userId": "04972491610814607252"
     },
     "user_tz": -180
    },
    "id": "6f156a1c",
    "outputId": "efc40816-6078-4081-bd0e-9daa479de69c"
   },
   "outputs": [
    {
     "data": {
      "text/plain": [
       "0    0.939283\n",
       "1    0.060717\n",
       "Name: is_duplicate, dtype: float64"
      ]
     },
     "execution_count": 22,
     "metadata": {},
     "output_type": "execute_result"
    }
   ],
   "source": [
    "df[check].is_duplicate.value_counts(normalize=True)"
   ]
  },
  {
   "cell_type": "markdown",
   "id": "964d5cf1",
   "metadata": {
    "id": "964d5cf1"
   },
   "source": [
    "#### Preprocessing"
   ]
  },
  {
   "cell_type": "code",
   "execution_count": null,
   "id": "0d5e08c3",
   "metadata": {
    "id": "0d5e08c3"
   },
   "outputs": [],
   "source": [
    "def preprocessing(x: str) -> str:\n",
    "    \n",
    "    def rus_preprocess(x: str) -> str:\n",
    "        forms_of_ownership = [\n",
    "            'ооо',\n",
    "            'оао',\n",
    "            'общество с ограниченной ответственностью',\n",
    "            'открытое акционерное общество',\n",
    "            'филиал компании'\n",
    "        ]\n",
    "        \n",
    "        for form in forms_of_ownership:\n",
    "            pattern = re.compile(form)\n",
    "            x = pattern.sub('', x)\n",
    "            \n",
    "        return x\n",
    "    \n",
    "    @transliterate_function(language_code='ru', reversed=True)\n",
    "    def translit(x: str) -> str:\n",
    "        return x\n",
    "    \n",
    "    \n",
    "    x = x.strip().casefold() # analoque of lower(), if simbols in latin1\n",
    "    x = basename(x) if not bool(set(rus_alphabet).intersection(set(x.lower()))) else rus_preprocess(x)\n",
    "    x = unicodedata.normalize('NFKD', x).encode('ASCII', 'ignore').decode() if not bool(set(rus_alphabet).intersection(set(x.lower()))) else translit(x)\n",
    "    x = basename(x)\n",
    "    x = re.sub(r'[^\\w\\s]',' ', x)\n",
    "    \n",
    "    return ' '.join([s for s in x.split() if len(s) > 1])"
   ]
  },
  {
   "cell_type": "code",
   "execution_count": null,
   "id": "fX07dD8T82uz",
   "metadata": {
    "colab": {
     "base_uri": "https://localhost:8080/",
     "height": 455
    },
    "executionInfo": {
     "elapsed": 116203,
     "status": "ok",
     "timestamp": 1666612094817,
     "user": {
      "displayName": "Фей Хоа",
      "userId": "04972491610814607252"
     },
     "user_tz": -180
    },
    "id": "fX07dD8T82uz",
    "outputId": "4312f307-5b84-4568-b58b-9aa11eede87a"
   },
   "outputs": [
    {
     "data": {
      "text/html": [
       "\n",
       "  <div id=\"df-18a39eee-3752-4711-ad24-d218c8303fb3\">\n",
       "    <div class=\"colab-df-container\">\n",
       "      <div>\n",
       "<style scoped>\n",
       "    .dataframe tbody tr th:only-of-type {\n",
       "        vertical-align: middle;\n",
       "    }\n",
       "\n",
       "    .dataframe tbody tr th {\n",
       "        vertical-align: top;\n",
       "    }\n",
       "\n",
       "    .dataframe thead th {\n",
       "        text-align: right;\n",
       "    }\n",
       "</style>\n",
       "<table border=\"1\" class=\"dataframe\">\n",
       "  <thead>\n",
       "    <tr style=\"text-align: right;\">\n",
       "      <th></th>\n",
       "      <th>name_1</th>\n",
       "      <th>name_2</th>\n",
       "      <th>is_duplicate</th>\n",
       "    </tr>\n",
       "    <tr>\n",
       "      <th>pair_id</th>\n",
       "      <th></th>\n",
       "      <th></th>\n",
       "      <th></th>\n",
       "    </tr>\n",
       "  </thead>\n",
       "  <tbody>\n",
       "    <tr>\n",
       "      <th>1</th>\n",
       "      <td>iko industries</td>\n",
       "      <td>enormous industrial trade</td>\n",
       "      <td>0</td>\n",
       "    </tr>\n",
       "    <tr>\n",
       "      <th>2</th>\n",
       "      <td>apcotex industries</td>\n",
       "      <td>technocraft industries india</td>\n",
       "      <td>0</td>\n",
       "    </tr>\n",
       "    <tr>\n",
       "      <th>3</th>\n",
       "      <td>rishichem distributors</td>\n",
       "      <td>dsa</td>\n",
       "      <td>0</td>\n",
       "    </tr>\n",
       "    <tr>\n",
       "      <th>4</th>\n",
       "      <td>powermax rubber factory</td>\n",
       "      <td>co one</td>\n",
       "      <td>0</td>\n",
       "    </tr>\n",
       "    <tr>\n",
       "      <th>5</th>\n",
       "      <td>tress</td>\n",
       "      <td>longyou industries park zhejiang</td>\n",
       "      <td>0</td>\n",
       "    </tr>\n",
       "    <tr>\n",
       "      <th>...</th>\n",
       "      <td>...</td>\n",
       "      <td>...</td>\n",
       "      <td>...</td>\n",
       "    </tr>\n",
       "    <tr>\n",
       "      <th>497815</th>\n",
       "      <td>bit mat products</td>\n",
       "      <td>the goodyear tire and rubber</td>\n",
       "      <td>0</td>\n",
       "    </tr>\n",
       "    <tr>\n",
       "      <th>497816</th>\n",
       "      <td>bnd trading</td>\n",
       "      <td>zhong shan yue liang economy trade imp exp</td>\n",
       "      <td>0</td>\n",
       "    </tr>\n",
       "    <tr>\n",
       "      <th>497817</th>\n",
       "      <td>xeikon industrial co ltd of dongguan city</td>\n",
       "      <td>yi cheng trading co ltd of dongguan city</td>\n",
       "      <td>0</td>\n",
       "    </tr>\n",
       "    <tr>\n",
       "      <th>497818</th>\n",
       "      <td>shanghai kechuan trading</td>\n",
       "      <td>shanghai stationery</td>\n",
       "      <td>0</td>\n",
       "    </tr>\n",
       "    <tr>\n",
       "      <th>497819</th>\n",
       "      <td>dih wei industries</td>\n",
       "      <td>burlington industries corporate</td>\n",
       "      <td>0</td>\n",
       "    </tr>\n",
       "  </tbody>\n",
       "</table>\n",
       "<p>497819 rows × 3 columns</p>\n",
       "</div>\n",
       "      <button class=\"colab-df-convert\" onclick=\"convertToInteractive('df-18a39eee-3752-4711-ad24-d218c8303fb3')\"\n",
       "              title=\"Convert this dataframe to an interactive table.\"\n",
       "              style=\"display:none;\">\n",
       "        \n",
       "  <svg xmlns=\"http://www.w3.org/2000/svg\" height=\"24px\"viewBox=\"0 0 24 24\"\n",
       "       width=\"24px\">\n",
       "    <path d=\"M0 0h24v24H0V0z\" fill=\"none\"/>\n",
       "    <path d=\"M18.56 5.44l.94 2.06.94-2.06 2.06-.94-2.06-.94-.94-2.06-.94 2.06-2.06.94zm-11 1L8.5 8.5l.94-2.06 2.06-.94-2.06-.94L8.5 2.5l-.94 2.06-2.06.94zm10 10l.94 2.06.94-2.06 2.06-.94-2.06-.94-.94-2.06-.94 2.06-2.06.94z\"/><path d=\"M17.41 7.96l-1.37-1.37c-.4-.4-.92-.59-1.43-.59-.52 0-1.04.2-1.43.59L10.3 9.45l-7.72 7.72c-.78.78-.78 2.05 0 2.83L4 21.41c.39.39.9.59 1.41.59.51 0 1.02-.2 1.41-.59l7.78-7.78 2.81-2.81c.8-.78.8-2.07 0-2.86zM5.41 20L4 18.59l7.72-7.72 1.47 1.35L5.41 20z\"/>\n",
       "  </svg>\n",
       "      </button>\n",
       "      \n",
       "  <style>\n",
       "    .colab-df-container {\n",
       "      display:flex;\n",
       "      flex-wrap:wrap;\n",
       "      gap: 12px;\n",
       "    }\n",
       "\n",
       "    .colab-df-convert {\n",
       "      background-color: #E8F0FE;\n",
       "      border: none;\n",
       "      border-radius: 50%;\n",
       "      cursor: pointer;\n",
       "      display: none;\n",
       "      fill: #1967D2;\n",
       "      height: 32px;\n",
       "      padding: 0 0 0 0;\n",
       "      width: 32px;\n",
       "    }\n",
       "\n",
       "    .colab-df-convert:hover {\n",
       "      background-color: #E2EBFA;\n",
       "      box-shadow: 0px 1px 2px rgba(60, 64, 67, 0.3), 0px 1px 3px 1px rgba(60, 64, 67, 0.15);\n",
       "      fill: #174EA6;\n",
       "    }\n",
       "\n",
       "    [theme=dark] .colab-df-convert {\n",
       "      background-color: #3B4455;\n",
       "      fill: #D2E3FC;\n",
       "    }\n",
       "\n",
       "    [theme=dark] .colab-df-convert:hover {\n",
       "      background-color: #434B5C;\n",
       "      box-shadow: 0px 1px 3px 1px rgba(0, 0, 0, 0.15);\n",
       "      filter: drop-shadow(0px 1px 2px rgba(0, 0, 0, 0.3));\n",
       "      fill: #FFFFFF;\n",
       "    }\n",
       "  </style>\n",
       "\n",
       "      <script>\n",
       "        const buttonEl =\n",
       "          document.querySelector('#df-18a39eee-3752-4711-ad24-d218c8303fb3 button.colab-df-convert');\n",
       "        buttonEl.style.display =\n",
       "          google.colab.kernel.accessAllowed ? 'block' : 'none';\n",
       "\n",
       "        async function convertToInteractive(key) {\n",
       "          const element = document.querySelector('#df-18a39eee-3752-4711-ad24-d218c8303fb3');\n",
       "          const dataTable =\n",
       "            await google.colab.kernel.invokeFunction('convertToInteractive',\n",
       "                                                     [key], {});\n",
       "          if (!dataTable) return;\n",
       "\n",
       "          const docLinkHtml = 'Like what you see? Visit the ' +\n",
       "            '<a target=\"_blank\" href=https://colab.research.google.com/notebooks/data_table.ipynb>data table notebook</a>'\n",
       "            + ' to learn more about interactive tables.';\n",
       "          element.innerHTML = '';\n",
       "          dataTable['output_type'] = 'display_data';\n",
       "          await google.colab.output.renderOutput(dataTable, element);\n",
       "          const docLink = document.createElement('div');\n",
       "          docLink.innerHTML = docLinkHtml;\n",
       "          element.appendChild(docLink);\n",
       "        }\n",
       "      </script>\n",
       "    </div>\n",
       "  </div>\n",
       "  "
      ],
      "text/plain": [
       "                                            name_1  \\\n",
       "pair_id                                              \n",
       "1                                   iko industries   \n",
       "2                               apcotex industries   \n",
       "3                           rishichem distributors   \n",
       "4                          powermax rubber factory   \n",
       "5                                            tress   \n",
       "...                                            ...   \n",
       "497815                            bit mat products   \n",
       "497816                                 bnd trading   \n",
       "497817   xeikon industrial co ltd of dongguan city   \n",
       "497818                    shanghai kechuan trading   \n",
       "497819                          dih wei industries   \n",
       "\n",
       "                                             name_2  is_duplicate  \n",
       "pair_id                                                            \n",
       "1                         enormous industrial trade             0  \n",
       "2                      technocraft industries india             0  \n",
       "3                                               dsa             0  \n",
       "4                                            co one             0  \n",
       "5                  longyou industries park zhejiang             0  \n",
       "...                                             ...           ...  \n",
       "497815                 the goodyear tire and rubber             0  \n",
       "497816   zhong shan yue liang economy trade imp exp             0  \n",
       "497817     yi cheng trading co ltd of dongguan city             0  \n",
       "497818                          shanghai stationery             0  \n",
       "497819              burlington industries corporate             0  \n",
       "\n",
       "[497819 rows x 3 columns]"
      ]
     },
     "execution_count": 24,
     "metadata": {},
     "output_type": "execute_result"
    }
   ],
   "source": [
    "df.name_1 = df.name_1.apply(lambda x: preprocessing(x))\n",
    "df.name_2 = df.name_2.apply(lambda x: preprocessing(x))\n",
    "df"
   ]
  },
  {
   "cell_type": "markdown",
   "id": "545d4802",
   "metadata": {
    "id": "545d4802"
   },
   "source": [
    "#### Features generation"
   ]
  },
  {
   "cell_type": "code",
   "execution_count": null,
   "id": "438d88f3",
   "metadata": {
    "id": "438d88f3"
   },
   "outputs": [],
   "source": [
    "# Levenshtein\n",
    "df.insert(2, 'l', (df.name_1 + '|' + df.name_2).apply(lambda x: Levenshtein.ratio(*x.split('|'))))\n",
    "\n",
    "# Discounted_Levenshtein\n",
    "df.insert(3, 'dl', (df.name_1 + '|' + df.name_2).apply(lambda x: abd.DiscountedLevenshtein().sim(*x.split('|'))))\n",
    "\n",
    "# String Subsequence Kernel Similarity\n",
    "df.insert(4, 'ssk', (df.name_1 + '|' + df.name_2).apply(lambda x: abd.SSK().sim(*x.split('|'))))\n",
    "\n",
    "# Token Sort Ratio\n",
    "df.insert(5, 'ts', (df.name_1 + '|' + df.name_2).apply(lambda x: fuzz.token_sort_ratio(*x.split('|')) / 100))\n",
    "\n",
    "# Token Set Ratio\n",
    "df.insert(6, 'tsr', (df.name_1 + '|' + df.name_2).apply(lambda x: fuzz.token_set_ratio(*x.split('|')) / 100))\n",
    "\n",
    "# Partial Ratio\n",
    "df.insert(7, 'pr', (df.name_1 + '|' + df.name_2).apply(lambda x: fuzz.partial_ratio(*x.split('|')) / 100))\n",
    "\n",
    "# Weighted Ratio\n",
    "df.insert(8, 'wr', (df.name_1 + '|' + df.name_2).apply(lambda x: fuzz.WRatio(*x.split('|')) / 100))\n",
    "\n",
    "# Sequence Matcher Ratio\n",
    "df.insert(9, 'smr', (df.name_1 + '|' + df.name_2).apply(lambda x: difflib.SequenceMatcher(None, *x.split('|')).ratio()))\n"
   ]
  },
  {
   "cell_type": "code",
   "execution_count": null,
   "id": "FgDGmtMDz9rp",
   "metadata": {
    "id": "FgDGmtMDz9rp"
   },
   "outputs": [],
   "source": [
    "# Jaro Similarity\n",
    "df.insert(10, 'js', (df.name_1 + '|' + df.name_2).apply(lambda x: jellyfish.jaro_similarity(*x.split('|'))))\n",
    "\n",
    "# Jaro-Winkler Similarity\n",
    "df.insert(11, 'jws', (df.name_1 + '|' + df.name_2).apply(lambda x: jellyfish.jaro_winkler_similarity(*x.split('|'))))\n",
    "\n",
    "# Match Rating Approach\n",
    "df.insert(12, 'mra', (df.name_1 + '|' + df.name_2).apply(lambda x: int(False if jellyfish.match_rating_comparison(*x.split('|')) is None else jellyfish.match_rating_comparison(*x.split('|')))))\n",
    "\n",
    "# mean from all previous features\n",
    "df.insert(13, 'mean', df[df.columns[2:-2]].mean(axis=1))"
   ]
  },
  {
   "cell_type": "code",
   "execution_count": null,
   "id": "FfGRPSWKuENq",
   "metadata": {
    "colab": {
     "base_uri": "https://localhost:8080/",
     "height": 143
    },
    "executionInfo": {
     "elapsed": 8,
     "status": "ok",
     "timestamp": 1666613503643,
     "user": {
      "displayName": "Фей Хоа",
      "userId": "04972491610814607252"
     },
     "user_tz": -180
    },
    "id": "FfGRPSWKuENq",
    "outputId": "57ae12fc-dd37-408f-93c7-d05d97239a73"
   },
   "outputs": [
    {
     "data": {
      "text/html": [
       "\n",
       "  <div id=\"df-90c3a0b7-df2b-4a94-ab05-f4cde3b39984\">\n",
       "    <div class=\"colab-df-container\">\n",
       "      <div>\n",
       "<style scoped>\n",
       "    .dataframe tbody tr th:only-of-type {\n",
       "        vertical-align: middle;\n",
       "    }\n",
       "\n",
       "    .dataframe tbody tr th {\n",
       "        vertical-align: top;\n",
       "    }\n",
       "\n",
       "    .dataframe thead th {\n",
       "        text-align: right;\n",
       "    }\n",
       "</style>\n",
       "<table border=\"1\" class=\"dataframe\">\n",
       "  <thead>\n",
       "    <tr style=\"text-align: right;\">\n",
       "      <th></th>\n",
       "      <th>name_1</th>\n",
       "      <th>name_2</th>\n",
       "      <th>l</th>\n",
       "      <th>dl</th>\n",
       "      <th>ssk</th>\n",
       "      <th>ts</th>\n",
       "      <th>tsr</th>\n",
       "      <th>pr</th>\n",
       "      <th>wr</th>\n",
       "      <th>smr</th>\n",
       "      <th>js</th>\n",
       "      <th>jws</th>\n",
       "      <th>mra</th>\n",
       "      <th>mean</th>\n",
       "      <th>is_duplicate</th>\n",
       "    </tr>\n",
       "    <tr>\n",
       "      <th>pair_id</th>\n",
       "      <th></th>\n",
       "      <th></th>\n",
       "      <th></th>\n",
       "      <th></th>\n",
       "      <th></th>\n",
       "      <th></th>\n",
       "      <th></th>\n",
       "      <th></th>\n",
       "      <th></th>\n",
       "      <th></th>\n",
       "      <th></th>\n",
       "      <th></th>\n",
       "      <th></th>\n",
       "      <th></th>\n",
       "      <th></th>\n",
       "    </tr>\n",
       "  </thead>\n",
       "  <tbody>\n",
       "    <tr>\n",
       "      <th>1</th>\n",
       "      <td>iko industries</td>\n",
       "      <td>enormous industrial trade</td>\n",
       "      <td>0.564103</td>\n",
       "      <td>0.381090</td>\n",
       "      <td>0.589480</td>\n",
       "      <td>0.56</td>\n",
       "      <td>0.56</td>\n",
       "      <td>0.71</td>\n",
       "      <td>0.64</td>\n",
       "      <td>0.564103</td>\n",
       "      <td>0.590390</td>\n",
       "      <td>0.590390</td>\n",
       "      <td>1</td>\n",
       "      <td>0.574955</td>\n",
       "      <td>0</td>\n",
       "    </tr>\n",
       "    <tr>\n",
       "      <th>2</th>\n",
       "      <td>apcotex industries</td>\n",
       "      <td>technocraft industries india</td>\n",
       "      <td>0.608696</td>\n",
       "      <td>0.424665</td>\n",
       "      <td>0.671847</td>\n",
       "      <td>0.52</td>\n",
       "      <td>0.71</td>\n",
       "      <td>0.72</td>\n",
       "      <td>0.86</td>\n",
       "      <td>0.565217</td>\n",
       "      <td>0.695106</td>\n",
       "      <td>0.695106</td>\n",
       "      <td>0</td>\n",
       "      <td>0.647064</td>\n",
       "      <td>0</td>\n",
       "    </tr>\n",
       "  </tbody>\n",
       "</table>\n",
       "</div>\n",
       "      <button class=\"colab-df-convert\" onclick=\"convertToInteractive('df-90c3a0b7-df2b-4a94-ab05-f4cde3b39984')\"\n",
       "              title=\"Convert this dataframe to an interactive table.\"\n",
       "              style=\"display:none;\">\n",
       "        \n",
       "  <svg xmlns=\"http://www.w3.org/2000/svg\" height=\"24px\"viewBox=\"0 0 24 24\"\n",
       "       width=\"24px\">\n",
       "    <path d=\"M0 0h24v24H0V0z\" fill=\"none\"/>\n",
       "    <path d=\"M18.56 5.44l.94 2.06.94-2.06 2.06-.94-2.06-.94-.94-2.06-.94 2.06-2.06.94zm-11 1L8.5 8.5l.94-2.06 2.06-.94-2.06-.94L8.5 2.5l-.94 2.06-2.06.94zm10 10l.94 2.06.94-2.06 2.06-.94-2.06-.94-.94-2.06-.94 2.06-2.06.94z\"/><path d=\"M17.41 7.96l-1.37-1.37c-.4-.4-.92-.59-1.43-.59-.52 0-1.04.2-1.43.59L10.3 9.45l-7.72 7.72c-.78.78-.78 2.05 0 2.83L4 21.41c.39.39.9.59 1.41.59.51 0 1.02-.2 1.41-.59l7.78-7.78 2.81-2.81c.8-.78.8-2.07 0-2.86zM5.41 20L4 18.59l7.72-7.72 1.47 1.35L5.41 20z\"/>\n",
       "  </svg>\n",
       "      </button>\n",
       "      \n",
       "  <style>\n",
       "    .colab-df-container {\n",
       "      display:flex;\n",
       "      flex-wrap:wrap;\n",
       "      gap: 12px;\n",
       "    }\n",
       "\n",
       "    .colab-df-convert {\n",
       "      background-color: #E8F0FE;\n",
       "      border: none;\n",
       "      border-radius: 50%;\n",
       "      cursor: pointer;\n",
       "      display: none;\n",
       "      fill: #1967D2;\n",
       "      height: 32px;\n",
       "      padding: 0 0 0 0;\n",
       "      width: 32px;\n",
       "    }\n",
       "\n",
       "    .colab-df-convert:hover {\n",
       "      background-color: #E2EBFA;\n",
       "      box-shadow: 0px 1px 2px rgba(60, 64, 67, 0.3), 0px 1px 3px 1px rgba(60, 64, 67, 0.15);\n",
       "      fill: #174EA6;\n",
       "    }\n",
       "\n",
       "    [theme=dark] .colab-df-convert {\n",
       "      background-color: #3B4455;\n",
       "      fill: #D2E3FC;\n",
       "    }\n",
       "\n",
       "    [theme=dark] .colab-df-convert:hover {\n",
       "      background-color: #434B5C;\n",
       "      box-shadow: 0px 1px 3px 1px rgba(0, 0, 0, 0.15);\n",
       "      filter: drop-shadow(0px 1px 2px rgba(0, 0, 0, 0.3));\n",
       "      fill: #FFFFFF;\n",
       "    }\n",
       "  </style>\n",
       "\n",
       "      <script>\n",
       "        const buttonEl =\n",
       "          document.querySelector('#df-90c3a0b7-df2b-4a94-ab05-f4cde3b39984 button.colab-df-convert');\n",
       "        buttonEl.style.display =\n",
       "          google.colab.kernel.accessAllowed ? 'block' : 'none';\n",
       "\n",
       "        async function convertToInteractive(key) {\n",
       "          const element = document.querySelector('#df-90c3a0b7-df2b-4a94-ab05-f4cde3b39984');\n",
       "          const dataTable =\n",
       "            await google.colab.kernel.invokeFunction('convertToInteractive',\n",
       "                                                     [key], {});\n",
       "          if (!dataTable) return;\n",
       "\n",
       "          const docLinkHtml = 'Like what you see? Visit the ' +\n",
       "            '<a target=\"_blank\" href=https://colab.research.google.com/notebooks/data_table.ipynb>data table notebook</a>'\n",
       "            + ' to learn more about interactive tables.';\n",
       "          element.innerHTML = '';\n",
       "          dataTable['output_type'] = 'display_data';\n",
       "          await google.colab.output.renderOutput(dataTable, element);\n",
       "          const docLink = document.createElement('div');\n",
       "          docLink.innerHTML = docLinkHtml;\n",
       "          element.appendChild(docLink);\n",
       "        }\n",
       "      </script>\n",
       "    </div>\n",
       "  </div>\n",
       "  "
      ],
      "text/plain": [
       "                     name_1                        name_2         l        dl  \\\n",
       "pair_id                                                                         \n",
       "1            iko industries     enormous industrial trade  0.564103  0.381090   \n",
       "2        apcotex industries  technocraft industries india  0.608696  0.424665   \n",
       "\n",
       "              ssk    ts   tsr    pr    wr       smr        js       jws  mra  \\\n",
       "pair_id                                                                        \n",
       "1        0.589480  0.56  0.56  0.71  0.64  0.564103  0.590390  0.590390    1   \n",
       "2        0.671847  0.52  0.71  0.72  0.86  0.565217  0.695106  0.695106    0   \n",
       "\n",
       "             mean  is_duplicate  \n",
       "pair_id                          \n",
       "1        0.574955             0  \n",
       "2        0.647064             0  "
      ]
     },
     "execution_count": 28,
     "metadata": {},
     "output_type": "execute_result"
    }
   ],
   "source": [
    "df.head(2)"
   ]
  },
  {
   "cell_type": "markdown",
   "id": "9oVtvzBt6hPi",
   "metadata": {
    "id": "9oVtvzBt6hPi"
   },
   "source": [
    "#### Saving the dataframe with features"
   ]
  },
  {
   "cell_type": "code",
   "execution_count": null,
   "id": "_MX4Q97i9aB3",
   "metadata": {
    "id": "_MX4Q97i9aB3"
   },
   "outputs": [],
   "source": [
    "df.to_csv('features.csv')"
   ]
  }
 ],
 "metadata": {
  "colab": {
   "collapsed_sections": [],
   "machine_shape": "hm",
   "provenance": []
  },
  "kernelspec": {
   "display_name": "Python 3 (ipykernel)",
   "language": "python",
   "name": "python3"
  },
  "language_info": {
   "codemirror_mode": {
    "name": "ipython",
    "version": 3
   },
   "file_extension": ".py",
   "mimetype": "text/x-python",
   "name": "python",
   "nbconvert_exporter": "python",
   "pygments_lexer": "ipython3",
   "version": "3.8.13"
  }
 },
 "nbformat": 4,
 "nbformat_minor": 5
}
